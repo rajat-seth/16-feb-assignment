{
 "cells": [
  {
   "cell_type": "markdown",
   "id": "52f98045-c324-4a9c-97d9-f3b6de75a51e",
   "metadata": {},
   "source": [
    "Q1)"
   ]
  },
  {
   "cell_type": "markdown",
   "id": "61e55e57-56d9-47fa-bc31-98cc0aa7a9ae",
   "metadata": {},
   "source": [
    "A database is a organised structural collection of data stored in a system.\n",
    "SQL is a relational database e=where as a NOSQL is a non relational database."
   ]
  },
  {
   "cell_type": "markdown",
   "id": "307f5299-015d-419d-a350-ff78d3900d75",
   "metadata": {},
   "source": [
    "Q2)"
   ]
  },
  {
   "cell_type": "markdown",
   "id": "fd6fcb40-bf9f-49d8-8c9e-f03e91fd2c7e",
   "metadata": {},
   "source": [
    "DDl stands for data definition language.This is a command used to describe a component of database and is used to modify the data base objects like Tables,views etc.\n"
   ]
  },
  {
   "cell_type": "markdown",
   "id": "027b9c6a-261f-41d4-a91e-6c313a65e1d7",
   "metadata": {},
   "source": [
    "Create command is used to create a new table in SQL.\n",
    "We need to create a table for storing Student information of a particular College. Create syntax would be used.\n",
    "\n",
    "\n",
    "Alter command is used to add,delet or change the existing column.\n",
    "In our Student_info table, we want to add a new column for CGPA. The Alter syntax would be as used\n",
    "\n",
    "\n",
    "Truncate is used to remove all rows from the table but the structure of table still exists.\n",
    "The College Authority wants to remove the details of all students for new batches but wants to keep the table structure. The command they can use is Truncate.\n",
    "\n",
    "Drop is used to remove an existing table.\n",
    "If the College Authority wants to change their Database by deleting the Student_info Table. "
   ]
  },
  {
   "cell_type": "markdown",
   "id": "12ab2685-1bef-401d-8b78-d673ab4d2bcb",
   "metadata": {},
   "source": [
    "Q3)"
   ]
  },
  {
   "cell_type": "markdown",
   "id": "574c1c1a-cd50-479f-aa02-2d136e0766dc",
   "metadata": {},
   "source": [
    "Data manipulation language command in SQL deals with manipulation of data records stored within the database tables.\n",
    "\n",
    "INSERT is used to insert new data records or rows in the database table.\n",
    "\n",
    "UPDATE isused to set value of a field or column for a particular record to a new value.\n",
    "\n",
    "DELETE used to remove one or more rows from the database table."
   ]
  },
  {
   "cell_type": "markdown",
   "id": "f86e4081-8277-4537-a832-d0d84ef3a88e",
   "metadata": {},
   "source": [
    "Q4)"
   ]
  },
  {
   "cell_type": "markdown",
   "id": "af3831fe-6abb-4335-b5b9-29ee7a4ed02c",
   "metadata": {},
   "source": [
    "DQL stands for data query language.It is used to fetch data from database. Select statement retrives record from a database table according to clauses that specify criteria. "
   ]
  },
  {
   "cell_type": "markdown",
   "id": "ec209ada-4962-4c6f-92ae-05e2058cd80a",
   "metadata": {},
   "source": [
    "Q5)"
   ]
  },
  {
   "cell_type": "markdown",
   "id": "b7339a5f-a8c4-4e0d-bcbe-468c2f394efe",
   "metadata": {},
   "source": [
    "A primary key is used to ensure that data in the specific column is unique. A foreign key is a column or group of column in a relational database table that provides a link between data in two tables."
   ]
  },
  {
   "cell_type": "markdown",
   "id": "501c2b63-39be-4614-a216-7b0cc0646528",
   "metadata": {},
   "source": [
    "Q6)"
   ]
  },
  {
   "cell_type": "code",
   "execution_count": 1,
   "id": "96a6f190-9c7c-4408-ac86-a2ba976cd507",
   "metadata": {},
   "outputs": [
    {
     "ename": "ModuleNotFoundError",
     "evalue": "No module named 'mysql'",
     "output_type": "error",
     "traceback": [
      "\u001b[0;31m---------------------------------------------------------------------------\u001b[0m",
      "\u001b[0;31mModuleNotFoundError\u001b[0m                       Traceback (most recent call last)",
      "Cell \u001b[0;32mIn[1], line 1\u001b[0m\n\u001b[0;32m----> 1\u001b[0m \u001b[38;5;28;01mimport\u001b[39;00m \u001b[38;5;21;01mmysql\u001b[39;00m\u001b[38;5;21;01m.\u001b[39;00m\u001b[38;5;21;01mconnector\u001b[39;00m\n\u001b[1;32m      3\u001b[0m mydb \u001b[38;5;241m=\u001b[39m mysql\u001b[38;5;241m.\u001b[39mconnector\u001b[38;5;241m.\u001b[39mconnect(\n\u001b[1;32m      4\u001b[0m   host\u001b[38;5;241m=\u001b[39m\u001b[38;5;124m\"\u001b[39m\u001b[38;5;124mlocalhost\u001b[39m\u001b[38;5;124m\"\u001b[39m,\n\u001b[1;32m      5\u001b[0m   user\u001b[38;5;241m=\u001b[39m\u001b[38;5;124m\"\u001b[39m\u001b[38;5;124mabc\u001b[39m\u001b[38;5;124m\"\u001b[39m,\n\u001b[1;32m      6\u001b[0m   password\u001b[38;5;241m=\u001b[39m\u001b[38;5;124m\"\u001b[39m\u001b[38;5;124mpassword\u001b[39m\u001b[38;5;124m\"\u001b[39m\n\u001b[1;32m      7\u001b[0m )\n\u001b[1;32m      8\u001b[0m \u001b[38;5;28mprint\u001b[39m(mydb)\n",
      "\u001b[0;31mModuleNotFoundError\u001b[0m: No module named 'mysql'"
     ]
    }
   ],
   "source": [
    "import mysql.connector\n",
    "\n",
    "mydb = mysql.connector.connect(\n",
    "  host=\"localhost\",\n",
    "  user=\"abc\",\n",
    "  password=\"password\"\n",
    ")\n",
    "print(mydb)\n",
    "mycursor = mydb.cursor()\n",
    "mycursor.execute(\"SHOW DATABASES\")\n",
    "for x in mycursor:\n",
    "    print(x)"
   ]
  },
  {
   "cell_type": "markdown",
   "id": "e3e1e769-42e2-41c8-b070-f952f1748070",
   "metadata": {},
   "source": [
    "Cursor is an object which help execute an object where as execute is used to give command to database."
   ]
  },
  {
   "cell_type": "markdown",
   "id": "fb7d2226-22c5-4f67-9a95-51ed210665cc",
   "metadata": {},
   "source": [
    "Q7)"
   ]
  },
  {
   "cell_type": "markdown",
   "id": "e1c45a5e-6224-42ed-8045-87967ba16510",
   "metadata": {},
   "source": [
    "Order of SQL query are:\n",
    "    FROM\n",
    "    WHERE\n",
    "    GROUP BY\n",
    "    HAVING\n",
    "    SELECT\n",
    "    ORDER BY\n",
    "    LIMIT\n",
    "    "
   ]
  },
  {
   "cell_type": "code",
   "execution_count": null,
   "id": "a7aa75cf-2b83-416a-ac0b-2f5374fc086a",
   "metadata": {},
   "outputs": [],
   "source": []
  }
 ],
 "metadata": {
  "kernelspec": {
   "display_name": "Python 3 (ipykernel)",
   "language": "python",
   "name": "python3"
  },
  "language_info": {
   "codemirror_mode": {
    "name": "ipython",
    "version": 3
   },
   "file_extension": ".py",
   "mimetype": "text/x-python",
   "name": "python",
   "nbconvert_exporter": "python",
   "pygments_lexer": "ipython3",
   "version": "3.10.8"
  }
 },
 "nbformat": 4,
 "nbformat_minor": 5
}
